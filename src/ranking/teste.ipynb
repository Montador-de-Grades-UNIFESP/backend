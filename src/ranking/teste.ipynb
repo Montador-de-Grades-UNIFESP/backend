{
 "cells": [
  {
   "cell_type": "code",
   "execution_count": 35,
   "metadata": {},
   "outputs": [],
   "source": [
    "import json\n",
    "\n",
    "def ler_arquivo_json(endereco_arquivo):\n",
    "    with open(endereco_arquivo, 'r', encoding='utf-8') as arquivo:\n",
    "        return json.load(arquivo)\n",
    "    \n",
    "aluno = ler_arquivo_json('exemplo_aluno.json')\n",
    "bd = ler_arquivo_json('exemplo_base_de_dados.json')"
   ]
  },
  {
   "cell_type": "code",
   "execution_count": 36,
   "metadata": {},
   "outputs": [],
   "source": [
    "def eh_primeiro(aluno, outro_aluno, disciplina):\n",
    "    if (aluno['curso'] != outro_aluno['curso']):\n",
    "        if (aluno['curso'] == disciplina['CURSO']): return 0 # O atual é antes, não soma\n",
    "        if (outro_aluno['curso'] == disciplina['CURSO']): return 1 # O outro é antes, soma\n",
    "\n",
    "        if (aluno['curso'][-1] != outro_aluno['curso'][-1]): # Se um dos dois está no turno correto\n",
    "            if (aluno['curso'][-1] == disciplina['CURSO'][-1]): return 0 # O atual é antes, não soma\n",
    "            if (outro_aluno['curso'][-1] == disciplina['CURSO'][-1]): return 1 # O outro é antes, soma\n",
    "    \n",
    "    if (aluno['creditos'] > outro_aluno['creditos']): return 0 # O atual é antes, não soma\n",
    "    elif (aluno['creditos'] < outro_aluno['creditos']): return 1 # O outro é antes, soma\n",
    "\n",
    "    if (aluno['cr'] > outro_aluno['cr']): return 0 # O atual é antes, não soma\n",
    "    elif (aluno['cr'] < outro_aluno['cr']): return 1 # O outro é antes, soma\n",
    "\n",
    "    return 1 # Se empatar, vamos supor que o outro é antes\n",
    "    \n",
    "def tem_disciplina(aluno, disciplina):\n",
    "    for d in aluno['grade']:\n",
    "        if d['NOME'] == disciplina['NOME']:\n",
    "            return True\n",
    "    return False\n",
    "\n",
    "\n",
    "def achar_ranking (aluno, bd):\n",
    "    posições = []\n",
    "    for disciplina in aluno['grade']:\n",
    "        ranking = 1\n",
    "        quantidade = 1\n",
    "        for outro_aluno in bd:\n",
    "            if tem_disciplina(outro_aluno, disciplina):\n",
    "                ranking += eh_primeiro(aluno, outro_aluno, disciplina)\n",
    "                quantidade += 1\n",
    "        posições.append((disciplina['NOME'], ranking, quantidade))\n",
    "    return posições"
   ]
  },
  {
   "cell_type": "code",
   "execution_count": 37,
   "metadata": {},
   "outputs": [
    {
     "data": {
      "text/plain": [
       "True"
      ]
     },
     "execution_count": 37,
     "metadata": {},
     "output_type": "execute_result"
    }
   ],
   "source": [
    "'9.6'>'10'"
   ]
  },
  {
   "cell_type": "code",
   "execution_count": 38,
   "metadata": {},
   "outputs": [
    {
     "data": {
      "text/plain": [
       "[('Projeto e Análise de Algoritmos', 3, 3),\n",
       " ('Programação Orientada a Objetos', 3, 3),\n",
       " ('Banco de Dados', 3, 3),\n",
       " ('Cálculo Numérico', 3, 3),\n",
       " ('Bioética e Biosseguranca', 3, 3),\n",
       " ('Tópicos especiais em Economia e Negócios I', 3, 3),\n",
       " ('Inferência e Análise de Regressão', 3, 3),\n",
       " ('Arquitetura e Organização de Computadores', 3, 3)]"
      ]
     },
     "execution_count": 38,
     "metadata": {},
     "output_type": "execute_result"
    }
   ],
   "source": [
    "achar_ranking(aluno, bd)"
   ]
  }
 ],
 "metadata": {
  "kernelspec": {
   "display_name": "Python 3",
   "language": "python",
   "name": "python3"
  },
  "language_info": {
   "codemirror_mode": {
    "name": "ipython",
    "version": 3
   },
   "file_extension": ".py",
   "mimetype": "text/x-python",
   "name": "python",
   "nbconvert_exporter": "python",
   "pygments_lexer": "ipython3",
   "version": "3.11.4"
  }
 },
 "nbformat": 4,
 "nbformat_minor": 2
}
